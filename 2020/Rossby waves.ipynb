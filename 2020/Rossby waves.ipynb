{
 "cells": [
  {
   "cell_type": "markdown",
   "metadata": {},
   "source": [
    "# Week 5: Rossby waves\n",
    "*MAQ - 32806, Chiel van Heerwaarden, Imme Benedict, and Menno Veerman, 2020*\n",
    "\n",
    "In this assignment you will study the properties of Rossby waves. For this, you will analyze a month of ECMWF ERA-Interim data from February 2015."
   ]
  },
  {
   "cell_type": "markdown",
   "metadata": {},
   "source": [
    "___\n",
    "First, we load the required packages."
   ]
  },
  {
   "cell_type": "code",
   "execution_count": null,
   "metadata": {},
   "outputs": [],
   "source": [
    "# Install a pip package in the current Jupyter kernel\n",
    "import sys\n",
    "!{sys.executable} -m pip install scipy cartopy netCDF4\n",
    "\n",
    "# Loading the packages.\n",
    "import numpy as np              # Numpy is the fundamental package for scientific computing in Python.\n",
    "import netCDF4 as nc            # NetCDF is the data format of the meteorological data that we use.\n",
    "import matplotlib.pyplot as plt # Matplotlib is a scientific plotting package.\n",
    "import datetime                 # Datetime is a package to deal with dates.\n",
    "import cartopy.crs as ccrs\n",
    "import cartopy\n",
    "from cartopy.mpl.ticker import LongitudeFormatter, LatitudeFormatter\n",
    "from matplotlib.colors import LinearSegmentedColormap\n",
    "from ipywidgets import interact, interact_manual\n",
    "\n",
    "# The statement below enforces the plots to be put into this notebook, instead of in their own windows.\n",
    "%matplotlib inline"
   ]
  },
  {
   "cell_type": "code",
   "execution_count": null,
   "metadata": {},
   "outputs": [],
   "source": [
    "plt.rcParams.update({'font.size': 11})          # Set the standard font size of the plots to 11pt.\n",
    "plt.rcParams.update({'figure.figsize': [13,5]}) # Set the standard figure size."
   ]
  },
  {
   "cell_type": "markdown",
   "metadata": {},
   "source": [
    "___\n",
    "# Setting up a Python and reading out the required data\n",
    "With the code below, you initialize the world map with the desired coordinates."
   ]
  },
  {
   "cell_type": "code",
   "execution_count": null,
   "metadata": {},
   "outputs": [],
   "source": [
    "# We define a map of the northern hemisphere that is stored in the m object.\n",
    "lon_start =  -180.\n",
    "lon_end   =   180.\n",
    "lat_start =     0.\n",
    "lat_end   =    85."
   ]
  },
  {
   "cell_type": "markdown",
   "metadata": {},
   "source": [
    "___\n",
    "\n",
    "Now, you load the data and read out the desired variables from a NetCDF file from the ECMWF ERA-Interim data archive."
   ]
  },
  {
   "cell_type": "code",
   "execution_count": null,
   "metadata": {},
   "outputs": [],
   "source": [
    "nc_file = nc.Dataset(\"shared/era_data2.nc\", \"r\")\n",
    "lat = nc_file.variables[\"latitude\"][:]\n",
    "lon = nc_file.variables[\"longitude\"][:]\n",
    "\n",
    "nroll = lon.size//2\n",
    "lon = np.roll(lon, nroll)\n",
    "lon = np.where(lon>=180., lon-360., lon)\n",
    "\n",
    "u   = np.roll(nc_file.variables[\"u\"][:,:,:], nroll, -1)\n",
    "v   = np.roll(nc_file.variables[\"v\"][:,:,:], nroll, -1)\n",
    "Phi = np.roll(nc_file.variables[\"z\"][:,:,:], nroll, -1)\n",
    "T   = np.roll(nc_file.variables[\"t\"][:,:,:], nroll, -1)\n",
    "\n",
    "time = np.arange(0, 28, 0.25)\n",
    "\n",
    "nc_file.close()\n",
    "\n",
    "def get_time_index(time_plot):\n",
    "    return abs(time-time_plot).argmin()\n",
    "\n",
    "def get_lat_index(lat_plot):\n",
    "    return abs(lat-lat_plot).argmin()\n",
    "\n",
    "def get_lon_index(lon_plot):\n",
    "    if(lon_plot > 180.):\n",
    "        lon_plot = lon_plot - 360.\n",
    "    return abs(lon-lon_plot).argmin()"
   ]
  },
  {
   "cell_type": "markdown",
   "metadata": {},
   "source": [
    "___\n",
    "# The time evolution of temperature, geopotential and meridional wind\n",
    "As a starting point you find below the temperature and geopotential at 500 hPa. With the slider above the plot you can change the time. If you click on the slider, you can change the time with the left and right arrow keys."
   ]
  },
  {
   "cell_type": "code",
   "execution_count": null,
   "metadata": {
    "scrolled": false
   },
   "outputs": [],
   "source": [
    "Phi_range = np.arange(50000, 100000, 1000)\n",
    "T_range = np.arange(220, 275, 2.5)\n",
    "\n",
    "def plot_T_map(t=2.5):\n",
    "    nt = abs(time-t).argmin()\n",
    "\n",
    "    my_projection = ccrs.PlateCarree(central_longitude=0)\n",
    "\n",
    "    fig1 = plt.figure()\n",
    "    ax1 = plt.subplot(111, projection=my_projection)\n",
    "\n",
    "    ax1.add_feature(cartopy.feature.COASTLINE, linewidth=0.8)\n",
    "    ax1.add_feature(cartopy.feature.BORDERS, linestyle='-', linewidth=.2)\n",
    "\n",
    "    ax1.set_xticks(np.arange(-180, 181, 30), crs=my_projection)\n",
    "    ax1.set_yticks(np.arange(-90, 91, 30), crs=my_projection)\n",
    "    lon_formatter = LongitudeFormatter(zero_direction_label=True)\n",
    "    lat_formatter = LatitudeFormatter()\n",
    "    ax1.xaxis.set_major_formatter(lon_formatter)\n",
    "    ax1.yaxis.set_major_formatter(lat_formatter)\n",
    "\n",
    "    cb = ax1.contourf(lon, lat, T[nt,:,:], T_range, cmap=plt.cm.inferno) # We plot a colormesh using the gist_ncar colormap.\n",
    "    #fig1.colorbar(cb) # We add a colorbar to show the values of temperature.\n",
    "    cz = ax1.contour(lon, lat, Phi[nt,:,:], Phi_range, colors='w', linewidths=1.5) # We plot the geopotential in contours.\n",
    "    ax1.clabel(cz, fmt='%1.0f', fontsize=10.) # We add labels to the contour lines.\n",
    "    ax1.set_title('T and $\\Phi$ at p = 500 hPa, t = {0} d, index = {1}'.format(t, nt));\n",
    "    ax1.set_xlim(lon_start, lon_end)\n",
    "    ax1.set_ylim(lat_start, lat_end)\n",
    "    fig1.tight_layout()\n",
    "    \n",
    "interact_manual(plot_T_map, t=(0, 28.75, 0.25));"
   ]
  },
  {
   "cell_type": "code",
   "execution_count": null,
   "metadata": {
    "scrolled": false
   },
   "outputs": [],
   "source": [
    "v_range = np.linspace(-60., 60., 24)\n",
    "\n",
    "def plot_v_map(t=2.5):\n",
    "    nt = abs(time-t).argmin()\n",
    "    \n",
    "    my_projection = ccrs.PlateCarree(central_longitude=0)\n",
    "\n",
    "    fig1 = plt.figure()\n",
    "    ax1 = plt.subplot(111, projection=my_projection)\n",
    "\n",
    "    ax1.add_feature(cartopy.feature.COASTLINE, linewidth=0.8)\n",
    "    ax1.add_feature(cartopy.feature.BORDERS, linestyle='-', linewidth=.2)\n",
    "\n",
    "    ax1.set_xticks(np.arange(-180, 181, 30), crs=my_projection)\n",
    "    ax1.set_yticks(np.arange(-90, 91, 30), crs=my_projection)\n",
    "    lon_formatter = LongitudeFormatter(zero_direction_label=True)\n",
    "    lat_formatter = LatitudeFormatter()\n",
    "    ax1.xaxis.set_major_formatter(lon_formatter)\n",
    "    ax1.yaxis.set_major_formatter(lat_formatter)\n",
    "\n",
    "    cb = ax1.contourf(lon, lat, v[nt,:,:], v_range, cmap=plt.cm.seismic) # We plot a colormesh using the gist_ncar colormap.\n",
    "    #fig1.colorbar(cb) # We add a colorbar to show the values of temperature.\n",
    "    cz = ax1.contour(lon, lat, Phi[nt,:,:], 15, colors='k', linewidths=1.5) # We plot the geopotential in contours.\n",
    "    ax1.clabel(cz, fmt='%1.0f', fontsize=10.) # We add labels to the contour lines.\n",
    "    ax1.set_title('v and $\\Phi$ at p = 500 hPa, t = {0} d, index = {1}'.format(t, nt));\n",
    "    ax1.set_xlim(lon_start, lon_end)\n",
    "    ax1.set_ylim(lat_start, lat_end)\n",
    "    fig1.tight_layout()\n",
    "\n",
    "interact(plot_v_map, t=(0, 28.75, 0.25));"
   ]
  },
  {
   "cell_type": "markdown",
   "metadata": {},
   "source": [
    "1. Analyze the time evolution of the geopotential and temperature. Can you recognize Rossby waves in the field? Which direction do they travel?\n",
    "2. Which latitude is the approximate axis (center line) of the Rossby waves?\n",
    "3. What do you observe around the Rocky Mountains at approximately 120 W? Can you link this observation with the conservation of shallow water (or Rossby) potential vorticity $\\left( \\zeta + f \\right) / h$?\n",
    "___"
   ]
  },
  {
   "cell_type": "markdown",
   "metadata": {},
   "source": [
    "# From noise to signal: averaging over a latitude band\n",
    "To be able to analyze the wave behavior the best, you will average the data over a latitude band. Below you find a figure that contains a plot of the geopotential $\\Phi$ and the meridional velocity $v$."
   ]
  },
  {
   "cell_type": "code",
   "execution_count": null,
   "metadata": {},
   "outputs": [],
   "source": [
    "# Fill in below the latitude that you find most appropriate as the axis of the Rossby waves.\n",
    "# The default value of 0 point to the equator and is therefore NOT correct.\n",
    "# Choose a time step that you consider to have a clear signal.\n",
    "lat_axis = 0.\n",
    "time_step = 0.25\n",
    "\n",
    "j_lat = get_lat_index(lat_axis)\n",
    "nt = get_time_index(time_step)\n",
    "\n",
    "fig1 = plt.figure()\n",
    "ax1 = plt.subplot(111)\n",
    "ax1.plot(lon, v[nt,j_lat,:], 'b-')\n",
    "ax1.set_xlabel('lon')\n",
    "ax1.set_ylabel('v (m/s)')\n",
    "ax2 = ax1.twinx()\n",
    "ax2.plot(lon, Phi[nt,j_lat,:], 'r-')\n",
    "ax2.set_xlim(-180., 180)\n",
    "ax2.set_ylabel('$\\Phi$')\n",
    "ax2.set_title('$\\Phi$ and v at 500 hPa and lat {0:.0f}'.format(lat[j_lat]))\n",
    "fig1.tight_layout()"
   ]
  },
  {
   "cell_type": "markdown",
   "metadata": {},
   "source": [
    "Now, you are going to replot this data, but with a smoothing over 30 degrees in order to contain the large part of the meridional extent of the Rossby wave in your line."
   ]
  },
  {
   "cell_type": "code",
   "execution_count": null,
   "metadata": {},
   "outputs": [],
   "source": [
    "j_lat_lo = get_lat_index(lat_axis - 15.)+1\n",
    "j_lat_hi = get_lat_index(lat_axis + 15.)\n",
    "\n",
    "v_avg   = np.mean(v  [:,j_lat_hi:j_lat_lo,:], axis=1)\n",
    "u_avg   = np.mean(u  [:,j_lat_hi:j_lat_lo,:], axis=1)\n",
    "Phi_avg = np.mean(Phi[:,j_lat_hi:j_lat_lo,:], axis=1)"
   ]
  },
  {
   "cell_type": "code",
   "execution_count": null,
   "metadata": {},
   "outputs": [],
   "source": [
    "fig1 = plt.figure()\n",
    "ax1 = plt.subplot(111)\n",
    "ax1.plot(lon, v_avg[nt,:], 'b-', label='averaged')\n",
    "ax1.plot(lon, v[nt,j_lat,:], 'b:', label='original')\n",
    "ax1.set_xlabel('lon')\n",
    "ax1.set_ylabel('v (m/s)')\n",
    "ax1.legend(loc=0, frameon=False)\n",
    "ax2 = ax1.twinx()\n",
    "ax2.plot(lon, Phi_avg[nt,:], 'r-', label='avg')\n",
    "ax2.plot(lon, Phi[nt,j_lat,:], 'r:', label='orig')\n",
    "ax2.set_xlim(-180., 180)\n",
    "ax2.set_ylabel('$\\Phi$ (m$^2$/s$^2$)')\n",
    "ax2.set_title('$\\Phi$ and v at 500 hPa and lat {0:.0f}'.format(lat[j_lat]))\n",
    "fig1.tight_layout()"
   ]
  },
  {
   "cell_type": "markdown",
   "metadata": {},
   "source": [
    "1. Set the variable `lat_axis` to the latitude that you have chosen to be the wave axis and the variable `time_step` to a chosen moment in time. Does the signal at your chosen latitude and time has has a clear wave pattern? Which wave numbers (you have to make a best guess here) dominate most to the signal? You can express the wave numbers in number of waves per earth circumference at your chosen latitude.\n",
    "2. What remains of the pattern after averaging? What does that tell you about Rossby waves?\n",
    "3. Are the time signals of $\\Phi$ and $v$ in phase or out of phase? Can you explain that?\n",
    "___"
   ]
  },
  {
   "cell_type": "markdown",
   "metadata": {},
   "source": [
    "# The Hovmuller diagram: visualisation of the propagation of systems\n",
    "In 1949, Hovmuller found an innovative way of plotting the time evolution of variables. He made contour plots of variables with longitude and time on the two axes. Below, you find a Hovmuller diagram of the meridional velocity at 500 hPa at your chosen latitude. Take your time to study this plot and to understand what it represents. \n",
    "\n",
    "To aid the visual interpretation, the line that is returned by the `get_advection_line` function shows the transport of air parcels by the zonal velocity $u$. This allows you to compare wave speed to wind speed. You can add as many lines as you want by copying the line\n",
    "\n",
    "`pl.plot(*get_advection_line(0., 10., 'ko-'))`\n",
    "\n",
    "with the desired longitude as the first argument and the desired time (in days) as the second argument.\n",
    "\n"
   ]
  },
  {
   "cell_type": "code",
   "execution_count": null,
   "metadata": {},
   "outputs": [],
   "source": [
    "def get_advection_line(lon_u, t_u, linestyle):\n",
    "    i_lon_u = get_lon_index(lon_u)\n",
    "    n_t_u = get_time_index(t_u)\n",
    "    dt_days = 2.\n",
    "    a = 6.37e6\n",
    "    u_avg_lon = u_avg[n_t_u, i_lon_u]\n",
    "    dx_avg_lon = u_avg_lon * dt_days * 86400.\n",
    "    dlon_rad = dx_avg_lon / (a * np.cos(np.deg2rad(lat[j_lat])))\n",
    "    dlon = np.rad2deg(dlon_rad)\n",
    "    \n",
    "    t_u_x = np.array([lon[i_lon_u] - dlon, lon[i_lon_u], lon[i_lon_u] + dlon])\n",
    "    t_u_y = np.array([t_u - dt_days, t_u, t_u + dt_days])\n",
    "    \n",
    "    return t_u_x, t_u_y, linestyle\n",
    "\n",
    "fig1 = plt.figure()\n",
    "ax1 = plt.subplot(111)\n",
    "cf = ax1.contourf(lon, time, v_avg, v_range, cmap=plt.cm.seismic, extend='both')\n",
    "fig1.colorbar(cf)\n",
    "ax1.plot(*get_advection_line(0., 10., 'ko-'))\n",
    "ax1.set_xlabel('lon')\n",
    "ax1.set_ylabel('time (d)')\n",
    "ax1.set_xlim(-180, 180)\n",
    "ax1.set_title('Meridional velocity at 500 hPa and lat {0:.0f}'.format(lat[j_lat]))\n",
    "ax1.grid()\n",
    "fig1.tight_layout()"
   ]
  },
  {
   "cell_type": "markdown",
   "metadata": {},
   "source": [
    "1. What are the dominant patterns that you observe in this plot? Can you distinguish small and large waves in here?\n",
    "2. Which of the observations you made in the global maps can you find back in this figure? What happens around the Rocky Mountains? What happens in Western Europe?\n",
    "3. Do the waves travel in the same direction as the mean wind? Do they travel faster or slower? Test this at multiple locations, for instance near the Rocky Mountains, over the Atlantic and over the European main land.\n",
    "4. Can you relate the previous observations to the dispersion relation for Rossby waves?\n",
    "___"
   ]
  },
  {
   "cell_type": "markdown",
   "metadata": {},
   "source": [
    "# Using Fourier analysis study waves of different size separately\n",
    "In signals that are dominated by a wide range of spatio-temporal scales, it is often hard to distinguish the behavior of large and smaller systems from each other in a plot. To be able to visualize these differences, spectral analysis is a widely used technique. In this technique, the signal is transformed into the so-called Fourier space. According to the theory, every periodic signal can be split into a sum of waves of integer wave numbers. We use here a Fast-Fourier transform. (See https://en.wikipedia.org/wiki/Fast_Fourier_transform if you are interested in the theory).\n",
    "\n",
    "Below, we calculate the Fourier transform for $v$ and $\\Phi$, and calculate the spectral energy. The spectral energy is the contribution of fluctations of different wave numbers to the total variance of the signal."
   ]
  },
  {
   "cell_type": "code",
   "execution_count": null,
   "metadata": {},
   "outputs": [],
   "source": [
    "v_fft = np.fft.rfft(v_avg, axis=1)\n",
    "v_fft_energy = abs(v_fft / lon.size)**2\n",
    "v_fft_energy[1:-1] *= 2.\n",
    "\n",
    "Phi_fft = np.fft.rfft(Phi_avg, axis=1)\n",
    "Phi_fft_energy = abs(Phi_fft / lon.size)**2\n",
    "Phi_fft_energy[1:-1] *= 2."
   ]
  },
  {
   "cell_type": "markdown",
   "metadata": {},
   "source": [
    "We can visualize the spectral energy. Below you find a plot with on the horizontal axis the wave numbers (expressed in how often a wave fits around the earth), and on the vertical axis the contribution of each wave to the variance of the signal. The area under the graph integrates to the total variance of the signal."
   ]
  },
  {
   "cell_type": "code",
   "execution_count": null,
   "metadata": {},
   "outputs": [],
   "source": [
    "k = np.arange(lon.size/2+1)\n",
    "fig1 = plt.figure()\n",
    "ax1 = plt.subplot(111)\n",
    "ax1.semilogx(k, k*v_fft_energy[nt,:], 'b-');\n",
    "ax1.set_xlabel('k')\n",
    "ax1.set_ylabel('E(k,v)')\n",
    "ax2 = ax1.twinx()\n",
    "ax2.semilogx(k, k*Phi_fft_energy[nt,:], 'r-');\n",
    "ax2.set_ylabel('E(k,$\\Phi$)')\n",
    "ax2.set_title('Energy spectra of v and $\\Phi$ at 500 hPa and lat {0:.0f}'.format(lat[j_lat]))\n",
    "fig1.tight_layout()"
   ]
  },
  {
   "cell_type": "markdown",
   "metadata": {},
   "source": [
    "1. Which are the dominant wave number ranges in the signals of $v$ and $\\Phi$? \n",
    "2. Are there differences between the two signals? What is the reason for the differences?\n",
    "3. Do the peaks in the graph match with what you observed in the maps?\n",
    "___"
   ]
  },
  {
   "cell_type": "markdown",
   "metadata": {},
   "source": [
    "# Filtering the data to see individual waves\n",
    "The nice thing about spectral analysis, is that it allows for studying individual waves, or a chosen range. In the code below, you can use the array `k_filter` to switch chosen wave numbers on by setting the value corresponding to a specific wave number to `1`. In the plot below, you can observe how well the original signal is represented, and how the Hovmuller diagram looks for the chosen wave number range."
   ]
  },
  {
   "cell_type": "code",
   "execution_count": null,
   "metadata": {},
   "outputs": [],
   "source": [
    "k_filter = np.zeros(v_fft.shape[1])\n",
    "k_filter[0] = 1.  # Use wave number 0, which is the mean, do not set this one to zero.\n",
    "\n",
    "#k_filter[:]    = 1.  # Use all waves.\n",
    "#k_filter[1:7] = 1.  # Use only wave numbers 1 to 7.\n",
    "\n",
    "v_fft_k = v_fft.copy() * k_filter[np.newaxis,:]\n",
    "v_k = np.fft.irfft(v_fft_k, axis=1)\n",
    "\n",
    "Phi_fft_k = Phi_fft.copy() * k_filter[np.newaxis,:]\n",
    "Phi_k = np.fft.irfft(Phi_fft_k, axis=1)"
   ]
  },
  {
   "cell_type": "code",
   "execution_count": null,
   "metadata": {},
   "outputs": [],
   "source": [
    "fig1 = plt.figure()\n",
    "ax1 = plt.subplot(111)\n",
    "ax1.plot(lon, v_k[nt,:], 'b-', label='filtered')\n",
    "ax1.plot(lon, v_avg[nt,:], 'b:', label='original')\n",
    "ax1.legend(loc=0, frameon=False)\n",
    "ax1.set_xlabel('lon')\n",
    "ax1.set_ylabel('v (m/s)')\n",
    "ax2 = ax1.twinx()\n",
    "ax2.plot(lon, Phi_k[nt,:], 'r-')\n",
    "ax2.plot(lon, Phi_avg[nt,:], 'r:')\n",
    "ax2.set_xlabel('lon')\n",
    "ax2.set_ylabel('$\\Phi$ (m$^2$/s$^2$)')\n",
    "fig1.tight_layout()"
   ]
  },
  {
   "cell_type": "code",
   "execution_count": null,
   "metadata": {},
   "outputs": [],
   "source": [
    "fig1 = plt.figure()\n",
    "ax1 = plt.subplot(111)\n",
    "cf = ax1.contourf(lon, time, v_k, v_range, cmap=plt.cm.seismic, extend='both')\n",
    "fig1.colorbar(cf)\n",
    "ax1.set_xlabel('lon')\n",
    "ax1.set_ylabel('time (d)')\n",
    "ax1.set_xlim(-180, 180)\n",
    "fig1.tight_layout()"
   ]
  },
  {
   "cell_type": "markdown",
   "metadata": {},
   "source": [
    "1. Filter the data such that only the first peak you observed in the spectra is in the signal (TIP: do not forget the mean). How well are the signals of $v$ and $\\Phi$ represented? What does that tell you about the importance of large-scale waves?\n",
    "2. How does the Hovmuller diagram look if only the large waves are included?\n",
    "3. Repeat the first two questions, but now remove the large waves from the signal and only retain the smaller waves. What do you observe and how do the plots differ?\n",
    "4. Does this exercise confirm your previous answer on the link between the Hovmuller diagrams and the dispersion relation of Rossby waves?"
   ]
  },
  {
   "cell_type": "markdown",
   "metadata": {},
   "source": [
    "___\n",
    "Work out your assignment below.\n",
    "___"
   ]
  }
 ],
 "metadata": {
  "kernelspec": {
   "display_name": "Python 3",
   "language": "python",
   "name": "python3"
  },
  "language_info": {
   "codemirror_mode": {
    "name": "ipython",
    "version": 3
   },
   "file_extension": ".py",
   "mimetype": "text/x-python",
   "name": "python",
   "nbconvert_exporter": "python",
   "pygments_lexer": "ipython3",
   "version": "3.9.0"
  },
  "toc": {
   "colors": {
    "hover_highlight": "#DAA520",
    "navigate_num": "#000000",
    "navigate_text": "#333333",
    "running_highlight": "#FF0000",
    "selected_highlight": "#FFD700",
    "sidebar_border": "#EEEEEE",
    "wrapper_background": "#FFFFFF"
   },
   "moveMenuLeft": true,
   "nav_menu": {
    "height": "153px",
    "width": "252px"
   },
   "navigate_menu": true,
   "number_sections": true,
   "sideBar": true,
   "threshold": 4,
   "toc_cell": false,
   "toc_section_display": "block",
   "toc_window_display": false,
   "widenNotebook": false
  },
  "varInspector": {
   "cols": {
    "lenName": 16,
    "lenType": 16,
    "lenVar": 40
   },
   "kernels_config": {
    "python": {
     "delete_cmd_postfix": "",
     "delete_cmd_prefix": "del ",
     "library": "var_list.py",
     "varRefreshCmd": "print(var_dic_list())"
    },
    "r": {
     "delete_cmd_postfix": ") ",
     "delete_cmd_prefix": "rm(",
     "library": "var_list.r",
     "varRefreshCmd": "cat(var_dic_list()) "
    }
   },
   "types_to_exclude": [
    "module",
    "function",
    "builtin_function_or_method",
    "instance",
    "_Feature"
   ],
   "window_display": false
  }
 },
 "nbformat": 4,
 "nbformat_minor": 1
}
