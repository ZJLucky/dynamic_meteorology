{
 "cells": [
  {
   "cell_type": "code",
   "execution_count": null,
   "metadata": {
    "collapsed": false
   },
   "outputs": [],
   "source": [
    "%matplotlib inline\n",
    "import numpy as np\n",
    "import matplotlib.pyplot as pl\n",
    "from matplotlib import animation\n",
    "from IPython.display import HTML\n",
    "figsize_s = 6,4\n",
    "figsize_l = 9,4\n",
    "pl.rcParams.update({'legend.fontsize' : 'medium'})"
   ]
  },
  {
   "cell_type": "code",
   "execution_count": null,
   "metadata": {
    "collapsed": true
   },
   "outputs": [],
   "source": [
    "Omega = 7.29e-5 # Angular velocity of the earth.\n",
    "g = 9.81        # Gravity constant.\n",
    "a = 6.371e6     # Earth radius."
   ]
  },
  {
   "cell_type": "code",
   "execution_count": null,
   "metadata": {
    "collapsed": false
   },
   "outputs": [],
   "source": [
    "f_multiplier = 1.\n",
    "lat = 45.\n",
    "f0 = f_multiplier * 2.*Omega*np.sin(np.pi/180.*lat)\n",
    "L = a * (2.*np.pi) #* np.cos(np.pi/180.*lat)\n",
    "L_dist = 1.e6\n",
    "h_bar = 100.\n",
    "h_prime = 0.1"
   ]
  },
  {
   "cell_type": "code",
   "execution_count": null,
   "metadata": {
    "collapsed": false
   },
   "outputs": [],
   "source": [
    "# Here we initialize the grid and the horizontal velocities.\n",
    "nx = 2560\n",
    "x = np.linspace(-L/2., L/2., nx)\n",
    "dx = x[1]-x[0]\n",
    "u0 = np.zeros(nx)\n",
    "v0 = np.zeros(nx)\n",
    "\n",
    "# The perturbation in h has the shape of a Gaussian (normal distribution).\n",
    "# x_sigma = L_dist/6.\n",
    "# h0 = np.exp(-x**2/(2.*x_sigma**2))\n",
    "# h0 = - h_prime*h0/np.max(h0)\n",
    "\n",
    "# Mexican hat (Ricker wavelet).\n",
    "h_sigma = 25.*dx # The wavelet is approximately 8 h_sigma in total width.\n",
    "h_width = 2./((3.*h_sigma)**.5*np.pi**.25)\n",
    "h0 = 2./((3.*h_sigma)**.5*np.pi**.25) * (1. - x**2/h_sigma**2) * np.exp(-x**2/(2.*h_sigma**2))\n",
    "h0 = h_prime*h0/np.max(h0)"
   ]
  },
  {
   "cell_type": "code",
   "execution_count": null,
   "metadata": {
    "collapsed": true
   },
   "outputs": [],
   "source": [
    "nt = 80000\n",
    "ni = 500\n",
    "dt = 10."
   ]
  },
  {
   "cell_type": "code",
   "execution_count": null,
   "metadata": {
    "code_folding": [],
    "collapsed": false
   },
   "outputs": [],
   "source": [
    "# MODEL INTEGRATOR, THIS MIGHT TAKE A WHILE!\n",
    "u = np.copy(u0)\n",
    "v = np.copy(v0)\n",
    "h = np.copy(h0)\n",
    "\n",
    "h_out = np.zeros((nt//ni+1, nx))\n",
    "h_out[0,:] = h0\n",
    "\n",
    "for n in range(1,nt+1):\n",
    "    u += dt * (   f0*v - g*np.gradient(h,dx) )\n",
    "    v += dt * ( - f0*u )\n",
    "    h += dt * ( - h_bar*np.gradient(u,dx) )\n",
    "    \n",
    "    if (n%ni == 0):\n",
    "        h_out[n//ni,:] = h[:]"
   ]
  },
  {
   "cell_type": "code",
   "execution_count": null,
   "metadata": {
    "collapsed": false
   },
   "outputs": [],
   "source": [
    "# ANIMATION CREATION PHASE 1. PLEASE IGNORE THIS FIGURE, WE DO NOT KNOW HOW TO SUPPRESS.\n",
    "# Set up the figure, the axis, and the plot element we want to animate\n",
    "fig, ax = pl.subplots(figsize=figsize_l)\n",
    "xmin, xmax = min(x), max(x)\n",
    "hmin, hmax = np.min(h_out), np.max(h_out)\n",
    "hmin -= 0.05*(hmax-hmin)\n",
    "hmax += 0.05*(hmax-hmin)\n",
    "ax.set_xlim(xmin, xmax)\n",
    "ax.set_ylim(hmin, hmax)\n",
    "ax.set_xlabel('x (m)')\n",
    "ax.set_ylabel('h (m)')\n",
    "ax.plot(x, h_out[0,:], 'b:')\n",
    "line, = ax.plot([], [], lw=2)\n",
    "fig.tight_layout()\n",
    "pl.close()"
   ]
  },
  {
   "cell_type": "code",
   "execution_count": null,
   "metadata": {
    "collapsed": false
   },
   "outputs": [],
   "source": [
    "# ANIMATION CREATION PHASE 2\n",
    "# Initialization function: plot the background of each frame\n",
    "def init():\n",
    "    line.set_data([], [])\n",
    "    return (line,)\n",
    "\n",
    "def animate(i):\n",
    "    line.set_data(x, h_out[i,:])\n",
    "    return (line,)\n",
    "\n",
    "# Call the animator. Keyword blit=True means only re-draw the parts that have changed.\n",
    "anim = animation.FuncAnimation(fig, animate, init_func=init,\n",
    "                               frames=h_out.shape[0], interval=40, blit=True)\n",
    "\n",
    "HTML(anim.to_html5_video())"
   ]
  },
  {
   "cell_type": "code",
   "execution_count": null,
   "metadata": {
    "collapsed": false
   },
   "outputs": [],
   "source": [
    "anim.save('f0_10.mp4', bitrate=-1)"
   ]
  },
  {
   "cell_type": "code",
   "execution_count": null,
   "metadata": {
    "collapsed": true
   },
   "outputs": [],
   "source": []
  }
 ],
 "metadata": {
  "kernelspec": {
   "display_name": "Python 3",
   "language": "python",
   "name": "python3"
  },
  "language_info": {
   "codemirror_mode": {
    "name": "ipython",
    "version": 3
   },
   "file_extension": ".py",
   "mimetype": "text/x-python",
   "name": "python",
   "nbconvert_exporter": "python",
   "pygments_lexer": "ipython3",
   "version": "3.5.2"
  }
 },
 "nbformat": 4,
 "nbformat_minor": 0
}
