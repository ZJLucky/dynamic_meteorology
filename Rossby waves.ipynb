{
 "cells": [
  {
   "cell_type": "markdown",
   "metadata": {},
   "source": [
    "# Week 5: Rossby waves\n",
    "### MAQ - 32806, Chiel van Heerwaarden & Imme Benedict, 2016\n",
    "In this assignment you will study divergence and vorticity near a midlatitude low pressure system. For this, you will use again the ECMWF ERA-Interim data from the 1st of January 2016 0:00. Note the new `get_pressure_index` function. This makes it easier to retrieve data at a certain pressure level.\n",
    "___\n",
    "First, we load the required packages."
   ]
  },
  {
   "cell_type": "code",
   "execution_count": null,
   "metadata": {
    "collapsed": false
   },
   "outputs": [],
   "source": [
    "import numpy as np              # Numpy is the fundamental package for scientific computing in Python.\n",
    "import netCDF4 as nc            # NetCDF is the data format of the meteorological data that we use.\n",
    "import matplotlib.pyplot as pl  # Matplotlib is a scientific plotting package.\n",
    "from mpl_toolkits.basemap import Basemap # Import the map plotting interface.\n",
    "from ipywidgets import interact\n",
    "import warnings\n",
    "warnings.filterwarnings('ignore')\n",
    "\n",
    "# The statement below enforces the plots to be put into this notebook, instead of in their own windows.\n",
    "%matplotlib inline\n",
    "pl.rcParams.update({'font.size': 11})          # Set the standard font size of the plots to 11pt.\n",
    "pl.rcParams.update({'figure.figsize': [13,5]}) # Set the standard figure size."
   ]
  },
  {
   "cell_type": "markdown",
   "metadata": {},
   "source": [
    "___\n",
    "### Setting up a Python Basemap and read out 3D fields\n",
    "With the code below, you initialize the world map with the desired coordinates."
   ]
  },
  {
   "cell_type": "code",
   "execution_count": null,
   "metadata": {
    "collapsed": false
   },
   "outputs": [],
   "source": [
    "# We define a map of the northern hemisphere that is stored in the m object.\n",
    "lon_start =  -180.\n",
    "lon_end   =   180.\n",
    "lat_start =     0.\n",
    "lat_end   =    85.\n",
    "m = Basemap(llcrnrlon=lon_start,\n",
    "            llcrnrlat=lat_start,\n",
    "            urcrnrlon=lon_end,\n",
    "            urcrnrlat=lat_end,\n",
    "            projection='mill', resolution='l')"
   ]
  },
  {
   "cell_type": "markdown",
   "metadata": {},
   "source": [
    "___\n",
    "\n",
    "Now, you load the data and read out the desired variables from a NetCDF file from the ECMWF ERA-Interim data archive."
   ]
  },
  {
   "cell_type": "code",
   "execution_count": null,
   "metadata": {
    "collapsed": false
   },
   "outputs": [],
   "source": [
    "nc_file = nc.Dataset(\"data/era_data2.nc\", \"r\")\n",
    "lat = nc_file.variables[\"latitude\"][:]\n",
    "lon = nc_file.variables[\"longitude\"][:]\n",
    "\n",
    "nroll = lon.size//2\n",
    "lon = np.roll(lon, nroll)\n",
    "lon = np.where(lon>=180., lon-360., lon)\n",
    "\n",
    "u   = np.roll(nc_file.variables[\"u\"][:,:,:], nroll, -1)\n",
    "v   = np.roll(nc_file.variables[\"v\"][:,:,:], nroll, -1)\n",
    "Phi = np.roll(nc_file.variables[\"z\"][:,:,:], nroll, -1)\n",
    "T   = np.roll(nc_file.variables[\"t\"][:,:,:], nroll, -1)\n",
    "\n",
    "time = np.arange(0, 28, 0.25)\n",
    "\n",
    "nc_file.close()\n",
    "\n",
    "lons, lats = m(*np.meshgrid(lon, lat))\n",
    "\n",
    "def get_lat_index(lat_plot):\n",
    "    return abs(lat-lat_plot).argmin()"
   ]
  },
  {
   "cell_type": "markdown",
   "metadata": {},
   "source": [
    "___\n",
    "### Plotting the temperature, geopotential and wind vectors\n",
    "As a starting point you find below the temperature and geopotential at 500 hPa."
   ]
  },
  {
   "cell_type": "code",
   "execution_count": null,
   "metadata": {
    "collapsed": false,
    "scrolled": true
   },
   "outputs": [],
   "source": [
    "Phi_range = np.arange(50000, 100000, 1250)\n",
    "\n",
    "def plot_T_map(t=0):\n",
    "    nt = abs(time-t).argmin()\n",
    "\n",
    "    pl.figure()\n",
    "    m.contourf(lons, lats, T[nt,:,:], 31, cmap=pl.cm.inferno)\n",
    "    m.colorbar()\n",
    "\n",
    "    cz = m.contour(lons, lats, Phi[nt,:,:], Phi_range, colors='w', linewidths=1.5)\n",
    "    pl.clabel(cz, fontsize=10., fmt='%1.0f')\n",
    "\n",
    "    m.drawcoastlines(color='k')\n",
    "    # draw parallels.\n",
    "    parallels = np.arange(-90.,90,30.)\n",
    "    m.drawparallels(parallels,labels=[1,0,0,0])\n",
    "    # draw meridians\n",
    "    meridians = np.arange(0.,360.,30.)\n",
    "    m.drawmeridians(meridians,labels=[0,0,0,1])\n",
    "    pl.title('T and $\\Phi$ at p = 300 hPa, t = {0} d, index = {1}'.format(t, nt));\n",
    "    pl.tight_layout()\n",
    "    \n",
    "interact(plot_T_map, t=(0, 28.75, 0.25));"
   ]
  },
  {
   "cell_type": "code",
   "execution_count": null,
   "metadata": {
    "collapsed": false,
    "scrolled": false
   },
   "outputs": [],
   "source": [
    "v_range = np.linspace(-60., 60., 24)\n",
    "\n",
    "def plot_v_map(t=2.5):\n",
    "    nt = abs(time-t).argmin()\n",
    "    \n",
    "    pl.figure()\n",
    "    m.contourf(lons, lats, v[nt,:,:], v_range, cmap=pl.cm.seismic, extend='both')\n",
    "    m.colorbar()\n",
    "\n",
    "    cz = m.contour(lons, lats, Phi[nt,:,:], Phi_range, colors='k', linewidths=1.5)\n",
    "    pl.clabel(cz, fontsize=10., fmt='%1.0f')\n",
    "\n",
    "    m.drawcoastlines(color='#666666')\n",
    "    # draw parallels.\n",
    "    parallels = np.arange(-90.,90,30.)\n",
    "    m.drawparallels(parallels,labels=[1,0,0,0])\n",
    "    # draw meridians\n",
    "    meridians = np.arange(0.,360.,30.)\n",
    "    m.drawmeridians(meridians,labels=[0,0,0,1])\n",
    "    pl.title('v and $\\Phi$ at p = 300 hPa, t = {0} d, index = {1}'.format(t, nt));\n",
    "    pl.tight_layout()\n",
    "\n",
    "interact(plot_v_map, t=(0, 28.75, 0.25));"
   ]
  },
  {
   "cell_type": "code",
   "execution_count": null,
   "metadata": {
    "collapsed": false
   },
   "outputs": [],
   "source": [
    "j_lat = get_lat_index(50.)\n",
    "nt = 10\n",
    "\n",
    "pl.plot(lon, v[nt,j_lat,:], 'b-')\n",
    "pl.xlabel('lon')\n",
    "pl.ylabel('v (m/s)')\n",
    "pl.twinx()\n",
    "pl.plot(lon, Phi[nt,j_lat,:], 'r-')\n",
    "pl.xlim(-180., 180)\n",
    "pl.ylabel('$\\Phi$')\n",
    "pl.tight_layout()"
   ]
  },
  {
   "cell_type": "code",
   "execution_count": null,
   "metadata": {
    "collapsed": true
   },
   "outputs": [],
   "source": [
    "j_lat_lo = get_lat_index(40.)+1\n",
    "j_lat_hi = get_lat_index(60.)\n",
    "\n",
    "v_avg   = np.mean(v  [:,j_lat_hi:j_lat_lo,:], axis=1)\n",
    "u_avg   = np.mean(u  [:,j_lat_hi:j_lat_lo,:], axis=1)\n",
    "Phi_avg = np.mean(Phi[:,j_lat_hi:j_lat_lo,:], axis=1)"
   ]
  },
  {
   "cell_type": "code",
   "execution_count": null,
   "metadata": {
    "collapsed": false
   },
   "outputs": [],
   "source": [
    "pl.plot(lon, v_avg[nt,:], 'b-')\n",
    "pl.plot(lon, v[nt,j_lat,:], 'b:')\n",
    "pl.xlabel('lon')\n",
    "pl.ylabel('v (m/s)')\n",
    "pl.twinx()\n",
    "pl.plot(lon, Phi_avg[nt,:], 'r-')\n",
    "pl.plot(lon, Phi[nt,j_lat,:], 'r:')\n",
    "pl.xlim(-180., 180)\n",
    "pl.ylabel('$\\Phi$')\n",
    "pl.tight_layout()"
   ]
  },
  {
   "cell_type": "code",
   "execution_count": null,
   "metadata": {
    "collapsed": false
   },
   "outputs": [],
   "source": [
    "pl.figure()\n",
    "pl.contourf(lon, time, v_avg, v_range, cmap=pl.cm.seismic, extend='both')\n",
    "pl.colorbar()\n",
    "pl.xlabel('lon')\n",
    "pl.ylabel('time (d)')\n",
    "pl.xlim(-180, 180)\n",
    "pl.tight_layout()"
   ]
  },
  {
   "cell_type": "code",
   "execution_count": null,
   "metadata": {
    "collapsed": false
   },
   "outputs": [],
   "source": [
    "v_fft = np.fft.rfft(v_avg, axis=1)\n",
    "v_fft_energy = abs(v_fft / lon.size)**2\n",
    "v_fft_energy[1:-1] *= 2.\n",
    "\n",
    "Phi_fft = np.fft.rfft(Phi_avg, axis=1)\n",
    "Phi_fft_energy = abs(Phi_fft / lon.size)**2\n",
    "Phi_fft_energy[1:-1] *= 2."
   ]
  },
  {
   "cell_type": "code",
   "execution_count": null,
   "metadata": {
    "collapsed": false
   },
   "outputs": [],
   "source": [
    "k = np.arange(lon.size/2+1)\n",
    "pl.figure()\n",
    "pl.semilogx(k, k*v_fft_energy[nt,:], 'b-');\n",
    "pl.twinx()\n",
    "pl.semilogx(k, k*Phi_fft_energy[nt,:], 'r-');\n",
    "pl.tight_layout()"
   ]
  },
  {
   "cell_type": "code",
   "execution_count": null,
   "metadata": {
    "collapsed": false
   },
   "outputs": [],
   "source": [
    "k_filter = np.zeros(v_fft.shape[1])\n",
    "k_filter[0]    = 1.\n",
    "k_filter[1:7]  = 1.\n",
    "#k_filter[7:20] = 1.\n",
    "\n",
    "v_fft_k = v_fft.copy() * k_filter[np.newaxis,:]\n",
    "v_k = np.fft.irfft(v_fft_k, axis=1)\n",
    "\n",
    "Phi_fft_k = Phi_fft.copy() * k_filter[np.newaxis,:]\n",
    "Phi_k = np.fft.irfft(Phi_fft_k, axis=1)"
   ]
  },
  {
   "cell_type": "code",
   "execution_count": null,
   "metadata": {
    "collapsed": false
   },
   "outputs": [],
   "source": [
    "pl.figure()\n",
    "pl.plot(lon, v_k[nt,:], 'b-')\n",
    "pl.plot(lon, v_avg[nt,:], 'b:')\n",
    "pl.twinx()\n",
    "pl.plot(lon, Phi_k[nt,:], 'r-')\n",
    "pl.plot(lon, Phi_avg[nt,:], 'r:')\n",
    "pl.tight_layout()"
   ]
  },
  {
   "cell_type": "code",
   "execution_count": null,
   "metadata": {
    "collapsed": false
   },
   "outputs": [],
   "source": [
    "pl.figure()\n",
    "pl.contourf(lon, time, v_k, v_range, cmap=pl.cm.seismic, extend='both')\n",
    "pl.colorbar()\n",
    "pl.xlabel('lon')\n",
    "pl.ylabel('time (d)')\n",
    "pl.xlim(-180, 180)\n",
    "pl.tight_layout()"
   ]
  },
  {
   "cell_type": "code",
   "execution_count": null,
   "metadata": {
    "collapsed": true
   },
   "outputs": [],
   "source": []
  }
 ],
 "metadata": {
  "kernelspec": {
   "display_name": "Python 3",
   "language": "python",
   "name": "python3"
  },
  "language_info": {
   "codemirror_mode": {
    "name": "ipython",
    "version": 3
   },
   "file_extension": ".py",
   "mimetype": "text/x-python",
   "name": "python",
   "nbconvert_exporter": "python",
   "pygments_lexer": "ipython3",
   "version": "3.5.2"
  },
  "widgets": {
   "state": {
    "5329f36076184af0ac4a828893a0469d": {
     "views": [
      {
       "cell_index": 7
      }
     ]
    },
    "ea55ca653d17458a83474830ad38e4a6": {
     "views": [
      {
       "cell_index": 8
      }
     ]
    }
   },
   "version": "1.2.0"
  }
 },
 "nbformat": 4,
 "nbformat_minor": 0
}
