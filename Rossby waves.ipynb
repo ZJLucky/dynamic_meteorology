{
 "cells": [
  {
   "cell_type": "markdown",
   "metadata": {},
   "source": [
    "# Week 5: Rossby waves\n",
    "### MAQ - 32806, Chiel van Heerwaarden & Imme Benedict, 2016\n",
    "In this assignment you will study the properties of Rossby waves. For this, you will a month of ECMWF ERA-Interim data from February 2015.\n",
    "___\n",
    "First, we load the required packages."
   ]
  },
  {
   "cell_type": "code",
   "execution_count": null,
   "metadata": {
    "collapsed": false
   },
   "outputs": [],
   "source": [
    "import numpy as np              # Numpy is the fundamental package for scientific computing in Python.\n",
    "import netCDF4 as nc            # NetCDF is the data format of the meteorological data that we use.\n",
    "import matplotlib.pyplot as pl  # Matplotlib is a scientific plotting package.\n",
    "from mpl_toolkits.basemap import Basemap # Import the map plotting interface.\n",
    "from ipywidgets import interact\n",
    "#import warnings\n",
    "#warnings.filterwarnings('ignore')\n",
    "\n",
    "# The statement below enforces the plots to be put into this notebook, instead of in their own windows.\n",
    "%matplotlib inline\n",
    "pl.rcParams.update({'font.size': 11})          # Set the standard font size of the plots to 11pt.\n",
    "pl.rcParams.update({'figure.figsize': [13,5]}) # Set the standard figure size."
   ]
  },
  {
   "cell_type": "markdown",
   "metadata": {},
   "source": [
    "___\n",
    "### Setting up a Python Basemap and read out 3D fields\n",
    "With the code below, you initialize the world map with the desired coordinates."
   ]
  },
  {
   "cell_type": "code",
   "execution_count": null,
   "metadata": {
    "collapsed": false
   },
   "outputs": [],
   "source": [
    "# We define a map of the northern hemisphere that is stored in the m object.\n",
    "lon_start =  -180.\n",
    "lon_end   =   180.\n",
    "lat_start =     0.\n",
    "lat_end   =    85.\n",
    "m = Basemap(llcrnrlon=lon_start,\n",
    "            llcrnrlat=lat_start,\n",
    "            urcrnrlon=lon_end,\n",
    "            urcrnrlat=lat_end,\n",
    "            projection='mill', resolution='l')"
   ]
  },
  {
   "cell_type": "markdown",
   "metadata": {},
   "source": [
    "___\n",
    "\n",
    "Now, you load the data and read out the desired variables from a NetCDF file from the ECMWF ERA-Interim data archive."
   ]
  },
  {
   "cell_type": "code",
   "execution_count": null,
   "metadata": {
    "collapsed": false
   },
   "outputs": [],
   "source": [
    "nc_file = nc.Dataset(\"data/era_data2.nc\", \"r\")\n",
    "lat = nc_file.variables[\"latitude\"][:]\n",
    "lon = nc_file.variables[\"longitude\"][:]\n",
    "\n",
    "nroll = lon.size//2\n",
    "lon = np.roll(lon, nroll)\n",
    "lon = np.where(lon>=180., lon-360., lon)\n",
    "\n",
    "u   = np.roll(nc_file.variables[\"u\"][:,:,:], nroll, -1)\n",
    "v   = np.roll(nc_file.variables[\"v\"][:,:,:], nroll, -1)\n",
    "Phi = np.roll(nc_file.variables[\"z\"][:,:,:], nroll, -1)\n",
    "T   = np.roll(nc_file.variables[\"t\"][:,:,:], nroll, -1)\n",
    "\n",
    "time = np.arange(0, 28, 0.25)\n",
    "\n",
    "nc_file.close()\n",
    "\n",
    "lons, lats = m(*np.meshgrid(lon, lat))\n",
    "\n",
    "def get_time_index(time_plot):\n",
    "    return abs(time-time_plot).argmin()\n",
    "\n",
    "def get_lat_index(lat_plot):\n",
    "    return abs(lat-lat_plot).argmin()\n",
    "\n",
    "def get_lon_index(lon_plot):\n",
    "    if(lon_plot > 180.):\n",
    "        lon_plot = lon_plot - 360.\n",
    "    return abs(lon-lon_plot).argmin()"
   ]
  },
  {
   "cell_type": "markdown",
   "metadata": {},
   "source": [
    "___\n",
    "### 1. The time evolution of temperature, geopotential and meridional wind\n",
    "As a starting point you find below the temperature and geopotential at 500 hPa. With the slider above the plot you can change the time. If you click on the slider, you can change the time with the left and right arrow keys."
   ]
  },
  {
   "cell_type": "code",
   "execution_count": null,
   "metadata": {
    "collapsed": false,
    "scrolled": false
   },
   "outputs": [],
   "source": [
    "Phi_range = np.arange(50000, 100000, 1000)\n",
    "T_range = np.arange(220, 275, 2.5)\n",
    "\n",
    "def plot_T_map(t=2.5):\n",
    "    nt = abs(time-t).argmin()\n",
    "\n",
    "    pl.figure()\n",
    "    m.contourf(lons, lats, T[nt,:,:], T_range, cmap=pl.cm.inferno, extend='both')\n",
    "    m.colorbar()\n",
    "\n",
    "    cz = m.contour(lons, lats, Phi[nt,:,:], Phi_range, colors='w', linewidths=1.5)\n",
    "    pl.clabel(cz, fontsize=10., fmt='%1.0f')\n",
    "\n",
    "    m.drawcoastlines(color='k')\n",
    "    # draw parallels.\n",
    "    parallels = np.arange(-90.,90,30.)\n",
    "    m.drawparallels(parallels,labels=[1,0,0,0])\n",
    "    # draw meridians\n",
    "    meridians = np.arange(0.,360.,30.)\n",
    "    m.drawmeridians(meridians,labels=[0,0,0,1])\n",
    "    pl.title('T and $\\Phi$ at p = 300 hPa, t = {0} d, index = {1}'.format(t, nt));\n",
    "    pl.tight_layout()\n",
    "    \n",
    "interact(plot_T_map, t=(0, 28.75, 0.25));"
   ]
  },
  {
   "cell_type": "code",
   "execution_count": null,
   "metadata": {
    "collapsed": false,
    "scrolled": false
   },
   "outputs": [],
   "source": [
    "v_range = np.linspace(-60., 60., 24)\n",
    "\n",
    "def plot_v_map(t=2.5):\n",
    "    nt = abs(time-t).argmin()\n",
    "    \n",
    "    pl.figure()\n",
    "    m.contourf(lons, lats, v[nt,:,:], v_range, cmap=pl.cm.seismic, extend='both')\n",
    "    m.colorbar()\n",
    "\n",
    "    cz = m.contour(lons, lats, Phi[nt,:,:], Phi_range, colors='k', linewidths=1.5)\n",
    "    pl.clabel(cz, fontsize=10., fmt='%1.0f')\n",
    "\n",
    "    m.drawcoastlines(color='#666666')\n",
    "    # draw parallels.\n",
    "    parallels = np.arange(-90.,90,30.)\n",
    "    m.drawparallels(parallels,labels=[1,0,0,0])\n",
    "    # draw meridians\n",
    "    meridians = np.arange(0.,360.,30.)\n",
    "    m.drawmeridians(meridians,labels=[0,0,0,1])\n",
    "    pl.title('v and $\\Phi$ at p = 300 hPa, t = {0} d, index = {1}'.format(t, nt));\n",
    "    pl.tight_layout()\n",
    "\n",
    "interact(plot_v_map, t=(0, 28.75, 0.25));"
   ]
  },
  {
   "cell_type": "markdown",
   "metadata": {},
   "source": [
    "#### Questions\n",
    "1. Analyze the time evolution of the geopotential and temperature. Can you recognize Rossby waves in the field? Which direction do they travel?\n",
    "2. Which latitude is the approximate axis of the Rossby waves?\n",
    "3. What do you observe around the Rocky Mountains at approximately 120 W? Can you link this observation with the conservation of shallow water (or Rossby) potential vorticity $\\left( \\zeta + f \\right) / h$?\n",
    "4. Which of the two signals is more dominated by smaller scale fluctuations, that of $\\Phi$ or that of $v$? Why?\n",
    "___"
   ]
  },
  {
   "cell_type": "markdown",
   "metadata": {},
   "source": [
    "### 2. From signal to noise: averaging over a latitude band\n",
    "To be able to analyze the wave behavior the best, you will average the data over a latitude band. Below you find a figure that contains a plot of the geopotential $\\Phi$ and the meridional velocity $v$."
   ]
  },
  {
   "cell_type": "code",
   "execution_count": null,
   "metadata": {
    "collapsed": false
   },
   "outputs": [],
   "source": [
    "# Fill in below the latitude that you find most appropriate as the axis of the Rossby waves.\n",
    "# Choose a time step that you consider to have a clear signal.\n",
    "lat_axis = 52.\n",
    "nt = 10\n",
    "\n",
    "j_lat = get_lat_index(lat_axis)\n",
    "\n",
    "pl.plot(lon, v[nt,j_lat,:], 'b-')\n",
    "pl.xlabel('lon')\n",
    "pl.ylabel('v (m/s)')\n",
    "pl.twinx()\n",
    "pl.plot(lon, Phi[nt,j_lat,:], 'r-')\n",
    "pl.xlim(-180., 180)\n",
    "pl.ylabel('$\\Phi$')\n",
    "pl.title('$\\Phi$ and v at 500 hPa and lat {0:.0f}'.format(lat[j_lat]))\n",
    "pl.tight_layout()"
   ]
  },
  {
   "cell_type": "markdown",
   "metadata": {},
   "source": [
    "Now, you are going to replot this data, but with a smoothing over 15 degrees in order to contain the large part of the meridional extent of the Rossby wave in your line."
   ]
  },
  {
   "cell_type": "code",
   "execution_count": null,
   "metadata": {
    "collapsed": true
   },
   "outputs": [],
   "source": [
    "j_lat_lo = get_lat_index(lat_axis - 15.)+1\n",
    "j_lat_hi = get_lat_index(lat_axis + 15.)\n",
    "\n",
    "v_avg   = np.mean(v  [:,j_lat_hi:j_lat_lo,:], axis=1)\n",
    "u_avg   = np.mean(u  [:,j_lat_hi:j_lat_lo,:], axis=1)\n",
    "Phi_avg = np.mean(Phi[:,j_lat_hi:j_lat_lo,:], axis=1)"
   ]
  },
  {
   "cell_type": "code",
   "execution_count": null,
   "metadata": {
    "collapsed": false
   },
   "outputs": [],
   "source": [
    "pl.plot(lon, v_avg[nt,:], 'b-', label='averaged')\n",
    "pl.plot(lon, v[nt,j_lat,:], 'b:', label='original')\n",
    "pl.xlabel('lon')\n",
    "pl.ylabel('v (m/s)')\n",
    "pl.legend(loc=0, frameon=False)\n",
    "pl.twinx()\n",
    "pl.plot(lon, Phi_avg[nt,:], 'r-', label='avg')\n",
    "pl.plot(lon, Phi[nt,j_lat,:], 'r:', label='orig')\n",
    "pl.xlim(-180., 180)\n",
    "pl.ylabel('$\\Phi$')\n",
    "pl.title('$\\Phi$ and v at 500 hPa and lat {0:.0f}'.format(lat[j_lat]))\n",
    "pl.tight_layout()"
   ]
  },
  {
   "cell_type": "markdown",
   "metadata": {},
   "source": [
    "1. Does the signal at your chosen latitude has has a clear wave pattern? Which wave numbers (you have to make a best guess here) dominate most to the signal? You can express the wave numbers in number of waves per earth circumference at your chosen latitude.\n",
    "2. What remains of the pattern after averaging? What does that tell you about Rossby waves?\n",
    "3. Are the time signals of $\\Phi$ and $v$ in phase or out of phase? Can you explain that?\n",
    "___"
   ]
  },
  {
   "cell_type": "markdown",
   "metadata": {},
   "source": [
    "### 3. The Hovmuller diagram: visualisation of the propagation of systems\n",
    "In 1949, Hovmuller came with an innovative way of plotting the time evolution of the geopotential. He made contour plots of variables with longitude and time on the axis. Below you find a Hovmuller diagram of the meridional velocity at 500 hPa at your chosen latitude. Take your time to study this plot and to understand what it represents. To aid the visual interpretation, the line that is returned by the `get_advection_line` function shows the zonal transport of air parcels by the zonal velocity $u$. "
   ]
  },
  {
   "cell_type": "code",
   "execution_count": null,
   "metadata": {
    "collapsed": false
   },
   "outputs": [],
   "source": [
    "def get_advection_line(lon_u, t_u):\n",
    "    i_lon_u = get_lon_index(lon_u)\n",
    "    n_t_u = get_time_index(t_u)\n",
    "    dt_days = 2.\n",
    "    a = 6.37e6\n",
    "    u_avg_lon = u_avg[n_t_u, i_lon_u]\n",
    "    dx_avg_lon = u_avg_lon * dt_days * 86400.\n",
    "    dlon_rad = dx_avg_lon / (a * np.cos(np.deg2rad(lat[j_lat])))\n",
    "    dlon = np.rad2deg(dlon_rad)\n",
    "    \n",
    "    t_u_x = np.array([lon[i_lon_u] - dlon, lon[i_lon_u], lon[i_lon_u] + dlon])\n",
    "    t_u_y = np.array([t_u - dt_days, t_u, t_u + dt_days])\n",
    "    \n",
    "    return t_u_x, t_u_y\n",
    "\n",
    "pl.figure()\n",
    "pl.contourf(lon, time, v_avg, v_range, cmap=pl.cm.seismic, extend='both')\n",
    "pl.colorbar()\n",
    "pl.plot(*get_advection_line(-40., 16.), 'ko-', linewidth=2)\n",
    "pl.xlabel('lon')\n",
    "pl.ylabel('time (d)')\n",
    "pl.xlim(-180, 180)\n",
    "pl.title('Meridional velocity at 500 hPa and lat {0:.0f}'.format(lat[j_lat]))\n",
    "pl.grid()\n",
    "pl.tight_layout()"
   ]
  },
  {
   "cell_type": "markdown",
   "metadata": {},
   "source": [
    "1. What are the dominant patterns that you observe in this plot? Can you distinguish small and large waves in here?\n",
    "2. Which of the observations you made in the global maps can you find back in this figure? What happens around the Rocky Mountains? What happens in Western Europe?\n",
    "3. Do the wave travel in the same direction as the mean wind? Do they travel faster or slower? Test this at multiple locations, for instance near the Rocky Mountains, over the Atlantic and over the European main land.\n",
    "4. Can you relate the previous observations to the dispersion relation for Rossby waves?\n",
    "___"
   ]
  },
  {
   "cell_type": "markdown",
   "metadata": {},
   "source": [
    "### 4. Using Fourier analysis study waves of different size separately\n",
    "In signals that are dominated by a wide range of spatio-temporal scales, it is often hard to distinguish the behavior of large and smaller systems from each other in a plot. To be able to visualize these differences, spectral analysis is a widely used technique. In this technique, the signal is transformed into the so-called Fourier space. According to the theory, every periodic signal can be split into a sum of waves of integer wave numbers. We use here a Fast-Fourier transform. (See https://en.wikipedia.org/wiki/Fast_Fourier_transform if you are interested in the theory).\n",
    "\n",
    "Below, we calculate the Fourier transform for $v$ and $\\Phi$, and calculate the spectral energy. The spectral energy is the contribution of fluctations of different wave numbers to the total variance of the signal."
   ]
  },
  {
   "cell_type": "code",
   "execution_count": null,
   "metadata": {
    "collapsed": false
   },
   "outputs": [],
   "source": [
    "v_fft = np.fft.rfft(v_avg, axis=1)\n",
    "v_fft_energy = abs(v_fft / lon.size)**2\n",
    "v_fft_energy[1:-1] *= 2.\n",
    "\n",
    "Phi_fft = np.fft.rfft(Phi_avg, axis=1)\n",
    "Phi_fft_energy = abs(Phi_fft / lon.size)**2\n",
    "Phi_fft_energy[1:-1] *= 2."
   ]
  },
  {
   "cell_type": "markdown",
   "metadata": {},
   "source": [
    "We can visualize the spectral energy. Below you find a plot with on the horizontal axis the wave numbers (expressed in how often a wave fits around the earth). The area under the graph integrates to the total variance of the signal."
   ]
  },
  {
   "cell_type": "code",
   "execution_count": null,
   "metadata": {
    "collapsed": false
   },
   "outputs": [],
   "source": [
    "k = np.arange(lon.size/2+1)\n",
    "pl.figure()\n",
    "pl.semilogx(k, k*v_fft_energy[nt,:], 'b-');\n",
    "pl.xlabel('k')\n",
    "pl.ylabel('E(k,v)')\n",
    "pl.twinx()\n",
    "pl.semilogx(k, k*Phi_fft_energy[nt,:], 'r-');\n",
    "pl.ylabel('E(k,$\\Phi$)')\n",
    "pl.tight_layout()"
   ]
  },
  {
   "cell_type": "markdown",
   "metadata": {},
   "source": [
    "1. Which are the dominant wave numbers in the signal of $v$ and $\\Phi$? \n",
    "2. Are there differences in the two signals? What is the reason for the differences?\n",
    "3. Do the peaks in the graph match with what you observed in the maps?\n",
    "___"
   ]
  },
  {
   "cell_type": "code",
   "execution_count": null,
   "metadata": {
    "collapsed": false
   },
   "outputs": [],
   "source": [
    "k_filter = np.zeros(v_fft.shape[1])\n",
    "k_filter[0]    = 1.\n",
    "#k_filter[1:7]  = 1.\n",
    "k_filter[7:20] = 1.\n",
    "\n",
    "v_fft_k = v_fft.copy() * k_filter[np.newaxis,:]\n",
    "v_k = np.fft.irfft(v_fft_k, axis=1)\n",
    "\n",
    "Phi_fft_k = Phi_fft.copy() * k_filter[np.newaxis,:]\n",
    "Phi_k = np.fft.irfft(Phi_fft_k, axis=1)"
   ]
  },
  {
   "cell_type": "code",
   "execution_count": null,
   "metadata": {
    "collapsed": false
   },
   "outputs": [],
   "source": [
    "pl.figure()\n",
    "pl.plot(lon, v_k[nt,:], 'b-')\n",
    "pl.plot(lon, v_avg[nt,:], 'b:')\n",
    "pl.twinx()\n",
    "pl.plot(lon, Phi_k[nt,:], 'r-')\n",
    "pl.plot(lon, Phi_avg[nt,:], 'r:')\n",
    "pl.tight_layout()"
   ]
  },
  {
   "cell_type": "code",
   "execution_count": null,
   "metadata": {
    "collapsed": false
   },
   "outputs": [],
   "source": [
    "pl.figure()\n",
    "pl.contourf(lon, time, v_k, v_range, cmap=pl.cm.seismic, extend='both')\n",
    "pl.colorbar()\n",
    "pl.xlabel('lon')\n",
    "pl.ylabel('time (d)')\n",
    "pl.xlim(-180, 180)\n",
    "pl.tight_layout()"
   ]
  }
 ],
 "metadata": {
  "kernelspec": {
   "display_name": "Python 3",
   "language": "python",
   "name": "python3"
  },
  "language_info": {
   "codemirror_mode": {
    "name": "ipython",
    "version": 3
   },
   "file_extension": ".py",
   "mimetype": "text/x-python",
   "name": "python",
   "nbconvert_exporter": "python",
   "pygments_lexer": "ipython3",
   "version": "3.5.2"
  },
  "widgets": {
   "state": {
    "0ecf8eb5a45b4995b576973e47e960e7": {
     "views": [
      {
       "cell_index": 8
      }
     ]
    },
    "d97177fa42a548428eda91317105edeb": {
     "views": [
      {
       "cell_index": 7
      }
     ]
    }
   },
   "version": "1.2.0"
  }
 },
 "nbformat": 4,
 "nbformat_minor": 0
}
