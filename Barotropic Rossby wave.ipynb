{
 "cells": [
  {
   "cell_type": "code",
   "execution_count": null,
   "metadata": {
    "collapsed": true
   },
   "outputs": [],
   "source": [
    "import numpy as np\n",
    "import pylab as pl\n",
    "%matplotlib inline"
   ]
  },
  {
   "cell_type": "code",
   "execution_count": null,
   "metadata": {
    "collapsed": true
   },
   "outputs": [],
   "source": [
    "# Initial conditions\n",
    "dvdx0 = -1e-5\n",
    "v0 = 0.\n",
    "u = 10.\n",
    "beta = 1e-11"
   ]
  },
  {
   "cell_type": "code",
   "execution_count": null,
   "metadata": {
    "collapsed": false
   },
   "outputs": [],
   "source": [
    "# Set up of the simulation duration and make output fields\n",
    "dt = 900.\n",
    "nt = 1000\n",
    "x = u*dt*np.arange(nt)\n",
    "\n",
    "v_out = np.zeros(nt)\n",
    "y_out = np.zeros(nt)"
   ]
  },
  {
   "cell_type": "code",
   "execution_count": null,
   "metadata": {
    "collapsed": false
   },
   "outputs": [],
   "source": [
    "# Integrate model in time\n",
    "dvdx = dvdx0\n",
    "v    = v0\n",
    "y    = 0.\n",
    "\n",
    "for n in range(1, nt):\n",
    "    # First, update v and y\n",
    "    v = v + dt*u*dvdx\n",
    "    y = y + v*dt\n",
    "    \n",
    "    # Calculate new dvdx\n",
    "    dvdx = dvdx - dt*beta*v\n",
    "    v = v + dt*u*dvdx\n",
    "    \n",
    "    v_out[n] = v\n",
    "    y_out[n] = y"
   ]
  },
  {
   "cell_type": "code",
   "execution_count": null,
   "metadata": {
    "collapsed": false
   },
   "outputs": [],
   "source": [
    "pl.figure(figsize=(12,4))\n",
    "pl.subplot(121)\n",
    "pl.plot(x / 1000., y_out / 1000)\n",
    "pl.xlabel('x (km)')\n",
    "pl.ylabel('y (km)')\n",
    "pl.subplot(122)\n",
    "pl.plot(x / 1000., v_out)\n",
    "pl.xlabel('x (km)')\n",
    "pl.ylabel('v (m/s)')\n",
    "pl.tight_layout()"
   ]
  },
  {
   "cell_type": "code",
   "execution_count": null,
   "metadata": {
    "collapsed": true
   },
   "outputs": [],
   "source": []
  }
 ],
 "metadata": {
  "kernelspec": {
   "display_name": "Python 3",
   "language": "python",
   "name": "python3"
  },
  "language_info": {
   "codemirror_mode": {
    "name": "ipython",
    "version": 3
   },
   "file_extension": ".py",
   "mimetype": "text/x-python",
   "name": "python",
   "nbconvert_exporter": "python",
   "pygments_lexer": "ipython3",
   "version": "3.5.2"
  }
 },
 "nbformat": 4,
 "nbformat_minor": 1
}
